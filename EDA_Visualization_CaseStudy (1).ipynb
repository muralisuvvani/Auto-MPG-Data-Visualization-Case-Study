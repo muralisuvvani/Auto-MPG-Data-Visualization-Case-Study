{
 "cells": [
  {
   "cell_type": "markdown",
   "id": "a2e20d66-de62-42a4-a295-54fa164cf2cd",
   "metadata": {},
   "source": [
    "# Auto-MPG Data Visualization Case Study"
   ]
  },
  {
   "cell_type": "code",
   "execution_count": 1,
   "id": "7fb44ce5-755d-467f-b07d-30748be0b6c0",
   "metadata": {},
   "outputs": [],
   "source": [
    "import pandas as pd\n",
    "import numpy as np\n",
    "import matplotlib.pyplot as plt\n",
    "import seaborn as sns\n"
   ]
  },
  {
   "cell_type": "code",
   "execution_count": 2,
   "id": "8d1d6e89-6b1f-44f3-8598-0c060369d3e5",
   "metadata": {},
   "outputs": [
    {
     "data": {
      "text/html": [
       "<div>\n",
       "<style scoped>\n",
       "    .dataframe tbody tr th:only-of-type {\n",
       "        vertical-align: middle;\n",
       "    }\n",
       "\n",
       "    .dataframe tbody tr th {\n",
       "        vertical-align: top;\n",
       "    }\n",
       "\n",
       "    .dataframe thead th {\n",
       "        text-align: right;\n",
       "    }\n",
       "</style>\n",
       "<table border=\"1\" class=\"dataframe\">\n",
       "  <thead>\n",
       "    <tr style=\"text-align: right;\">\n",
       "      <th></th>\n",
       "      <th>mpg</th>\n",
       "      <th>cylinders</th>\n",
       "      <th>displacement</th>\n",
       "      <th>horsepower</th>\n",
       "      <th>weight</th>\n",
       "      <th>acceleration</th>\n",
       "      <th>model year</th>\n",
       "      <th>origin</th>\n",
       "      <th>car name</th>\n",
       "    </tr>\n",
       "  </thead>\n",
       "  <tbody>\n",
       "    <tr>\n",
       "      <th>0</th>\n",
       "      <td>18.0</td>\n",
       "      <td>8</td>\n",
       "      <td>307.0</td>\n",
       "      <td>130</td>\n",
       "      <td>3504</td>\n",
       "      <td>12.0</td>\n",
       "      <td>70</td>\n",
       "      <td>1</td>\n",
       "      <td>chevrolet chevelle malibu</td>\n",
       "    </tr>\n",
       "    <tr>\n",
       "      <th>1</th>\n",
       "      <td>15.0</td>\n",
       "      <td>8</td>\n",
       "      <td>350.0</td>\n",
       "      <td>165</td>\n",
       "      <td>3693</td>\n",
       "      <td>11.5</td>\n",
       "      <td>70</td>\n",
       "      <td>1</td>\n",
       "      <td>buick skylark 320</td>\n",
       "    </tr>\n",
       "    <tr>\n",
       "      <th>2</th>\n",
       "      <td>18.0</td>\n",
       "      <td>8</td>\n",
       "      <td>318.0</td>\n",
       "      <td>150</td>\n",
       "      <td>3436</td>\n",
       "      <td>11.0</td>\n",
       "      <td>70</td>\n",
       "      <td>1</td>\n",
       "      <td>plymouth satellite</td>\n",
       "    </tr>\n",
       "    <tr>\n",
       "      <th>3</th>\n",
       "      <td>16.0</td>\n",
       "      <td>8</td>\n",
       "      <td>304.0</td>\n",
       "      <td>150</td>\n",
       "      <td>3433</td>\n",
       "      <td>12.0</td>\n",
       "      <td>70</td>\n",
       "      <td>1</td>\n",
       "      <td>amc rebel sst</td>\n",
       "    </tr>\n",
       "    <tr>\n",
       "      <th>4</th>\n",
       "      <td>17.0</td>\n",
       "      <td>8</td>\n",
       "      <td>302.0</td>\n",
       "      <td>140</td>\n",
       "      <td>3449</td>\n",
       "      <td>10.5</td>\n",
       "      <td>70</td>\n",
       "      <td>1</td>\n",
       "      <td>ford torino</td>\n",
       "    </tr>\n",
       "  </tbody>\n",
       "</table>\n",
       "</div>"
      ],
      "text/plain": [
       "    mpg  cylinders  displacement horsepower  weight  acceleration  model year  \\\n",
       "0  18.0          8         307.0        130    3504          12.0          70   \n",
       "1  15.0          8         350.0        165    3693          11.5          70   \n",
       "2  18.0          8         318.0        150    3436          11.0          70   \n",
       "3  16.0          8         304.0        150    3433          12.0          70   \n",
       "4  17.0          8         302.0        140    3449          10.5          70   \n",
       "\n",
       "   origin                   car name  \n",
       "0       1  chevrolet chevelle malibu  \n",
       "1       1          buick skylark 320  \n",
       "2       1         plymouth satellite  \n",
       "3       1              amc rebel sst  \n",
       "4       1                ford torino  "
      ]
     },
     "execution_count": 2,
     "metadata": {},
     "output_type": "execute_result"
    }
   ],
   "source": [
    "mpg_data=pd.read_csv(\"pandas datasets/auto-mpg.csv\")\n",
    "mpg_data.head()"
   ]
  },
  {
   "cell_type": "code",
   "execution_count": 3,
   "id": "30464eea-503d-4bdf-a633-b75b67fab71f",
   "metadata": {},
   "outputs": [
    {
     "data": {
      "text/plain": [
       "Index(['mpg', 'cylinders', 'displacement', 'horsepower', 'weight',\n",
       "       'acceleration', 'model year', 'origin', 'car name'],\n",
       "      dtype='object')"
      ]
     },
     "execution_count": 3,
     "metadata": {},
     "output_type": "execute_result"
    }
   ],
   "source": [
    "mpg_data.columns"
   ]
  },
  {
   "cell_type": "code",
   "execution_count": 4,
   "id": "87e72a0b-e391-4b39-b81c-7fe3343b98db",
   "metadata": {},
   "outputs": [
    {
     "data": {
      "text/plain": [
       "(398, 9)"
      ]
     },
     "execution_count": 4,
     "metadata": {},
     "output_type": "execute_result"
    }
   ],
   "source": [
    "mpg_data.shape"
   ]
  },
  {
   "cell_type": "code",
   "execution_count": 5,
   "id": "c7b4a548-7d1d-4347-841b-ced1c5aca96b",
   "metadata": {},
   "outputs": [
    {
     "data": {
      "text/plain": [
       "car name\n",
       "ford pinto             6\n",
       "ford maverick          5\n",
       "amc matador            5\n",
       "toyota corolla         5\n",
       "amc hornet             4\n",
       "                      ..\n",
       "amc concord dl         1\n",
       "volkswagen rabbit l    1\n",
       "mazda glc custom l     1\n",
       "mazda glc custom       1\n",
       "chevy s-10             1\n",
       "Name: count, Length: 305, dtype: int64"
      ]
     },
     "execution_count": 5,
     "metadata": {},
     "output_type": "execute_result"
    }
   ],
   "source": [
    "mpg_data[\"car name\"].value_counts()"
   ]
  },
  {
   "cell_type": "code",
   "execution_count": 6,
   "id": "b730ce1e-2c56-41d4-ae67-9e67a4e95df4",
   "metadata": {},
   "outputs": [
    {
     "data": {
      "text/plain": [
       "(398, 9)"
      ]
     },
     "execution_count": 6,
     "metadata": {},
     "output_type": "execute_result"
    }
   ],
   "source": [
    "mpg_data.shape"
   ]
  },
  {
   "cell_type": "code",
   "execution_count": 7,
   "id": "e3f25b1b-4025-4048-8a76-b41bfb03115c",
   "metadata": {},
   "outputs": [
    {
     "data": {
      "text/plain": [
       "mpg             float64\n",
       "cylinders         int64\n",
       "displacement    float64\n",
       "horsepower       object\n",
       "weight            int64\n",
       "acceleration    float64\n",
       "model year        int64\n",
       "origin            int64\n",
       "car name         object\n",
       "dtype: object"
      ]
     },
     "execution_count": 7,
     "metadata": {},
     "output_type": "execute_result"
    }
   ],
   "source": [
    "mpg_data.dtypes"
   ]
  },
  {
   "cell_type": "code",
   "execution_count": 8,
   "id": "8672a7aa-6fef-4a59-83e2-6e30eb6b621e",
   "metadata": {},
   "outputs": [
    {
     "data": {
      "text/plain": [
       "305"
      ]
     },
     "execution_count": 8,
     "metadata": {},
     "output_type": "execute_result"
    }
   ],
   "source": [
    "mpg_data[\"car name\"].nunique()"
   ]
  },
  {
   "cell_type": "code",
   "execution_count": 9,
   "id": "253e4a08-e2f0-4813-82f7-845a293dd28d",
   "metadata": {},
   "outputs": [
    {
     "name": "stdout",
     "output_type": "stream",
     "text": [
      "invalid literal for int() with base 10: '?'\n"
     ]
    }
   ],
   "source": [
    "try:\n",
    "    mpg_data[\"horsepower\"].astype(\"int\")\n",
    "except Exception as e:\n",
    "    print(e)"
   ]
  },
  {
   "cell_type": "code",
   "execution_count": 10,
   "id": "a7bb9613-621f-4eda-8e7c-3fa9b9b0361a",
   "metadata": {},
   "outputs": [
    {
     "name": "stdout",
     "output_type": "stream",
     "text": [
      "Unable to parse string \"?\" at position 32\n"
     ]
    }
   ],
   "source": [
    "try:\n",
    "    mpg_data[\"horsepower\"]=pd.to_numeric(mpg_data[\"horsepower\"])\n",
    "\n",
    "except Exception as e:\n",
    "    print(e)"
   ]
  },
  {
   "cell_type": "code",
   "execution_count": 11,
   "id": "d53919af-4a19-4c04-b2f1-3707a56d1de3",
   "metadata": {},
   "outputs": [
    {
     "data": {
      "text/html": [
       "<div>\n",
       "<style scoped>\n",
       "    .dataframe tbody tr th:only-of-type {\n",
       "        vertical-align: middle;\n",
       "    }\n",
       "\n",
       "    .dataframe tbody tr th {\n",
       "        vertical-align: top;\n",
       "    }\n",
       "\n",
       "    .dataframe thead th {\n",
       "        text-align: right;\n",
       "    }\n",
       "</style>\n",
       "<table border=\"1\" class=\"dataframe\">\n",
       "  <thead>\n",
       "    <tr style=\"text-align: right;\">\n",
       "      <th></th>\n",
       "      <th>horsepower</th>\n",
       "    </tr>\n",
       "  </thead>\n",
       "  <tbody>\n",
       "    <tr>\n",
       "      <th>0</th>\n",
       "      <td>True</td>\n",
       "    </tr>\n",
       "    <tr>\n",
       "      <th>1</th>\n",
       "      <td>True</td>\n",
       "    </tr>\n",
       "    <tr>\n",
       "      <th>2</th>\n",
       "      <td>True</td>\n",
       "    </tr>\n",
       "    <tr>\n",
       "      <th>3</th>\n",
       "      <td>True</td>\n",
       "    </tr>\n",
       "    <tr>\n",
       "      <th>4</th>\n",
       "      <td>True</td>\n",
       "    </tr>\n",
       "    <tr>\n",
       "      <th>...</th>\n",
       "      <td>...</td>\n",
       "    </tr>\n",
       "    <tr>\n",
       "      <th>393</th>\n",
       "      <td>True</td>\n",
       "    </tr>\n",
       "    <tr>\n",
       "      <th>394</th>\n",
       "      <td>True</td>\n",
       "    </tr>\n",
       "    <tr>\n",
       "      <th>395</th>\n",
       "      <td>True</td>\n",
       "    </tr>\n",
       "    <tr>\n",
       "      <th>396</th>\n",
       "      <td>True</td>\n",
       "    </tr>\n",
       "    <tr>\n",
       "      <th>397</th>\n",
       "      <td>True</td>\n",
       "    </tr>\n",
       "  </tbody>\n",
       "</table>\n",
       "<p>398 rows × 1 columns</p>\n",
       "</div>"
      ],
      "text/plain": [
       "     horsepower\n",
       "0          True\n",
       "1          True\n",
       "2          True\n",
       "3          True\n",
       "4          True\n",
       "..          ...\n",
       "393        True\n",
       "394        True\n",
       "395        True\n",
       "396        True\n",
       "397        True\n",
       "\n",
       "[398 rows x 1 columns]"
      ]
     },
     "execution_count": 11,
     "metadata": {},
     "output_type": "execute_result"
    }
   ],
   "source": [
    "hp_is_digit=pd.DataFrame(mpg_data[\"horsepower\"].str.isdigit())\n",
    "hp_is_digit"
   ]
  },
  {
   "cell_type": "code",
   "execution_count": 12,
   "id": "a22f0317-4c74-4283-a665-8c6c9fc9748d",
   "metadata": {},
   "outputs": [
    {
     "data": {
      "text/html": [
       "<div>\n",
       "<style scoped>\n",
       "    .dataframe tbody tr th:only-of-type {\n",
       "        vertical-align: middle;\n",
       "    }\n",
       "\n",
       "    .dataframe tbody tr th {\n",
       "        vertical-align: top;\n",
       "    }\n",
       "\n",
       "    .dataframe thead th {\n",
       "        text-align: right;\n",
       "    }\n",
       "</style>\n",
       "<table border=\"1\" class=\"dataframe\">\n",
       "  <thead>\n",
       "    <tr style=\"text-align: right;\">\n",
       "      <th></th>\n",
       "      <th>mpg</th>\n",
       "      <th>cylinders</th>\n",
       "      <th>displacement</th>\n",
       "      <th>horsepower</th>\n",
       "      <th>weight</th>\n",
       "      <th>acceleration</th>\n",
       "      <th>model year</th>\n",
       "      <th>origin</th>\n",
       "      <th>car name</th>\n",
       "    </tr>\n",
       "  </thead>\n",
       "  <tbody>\n",
       "    <tr>\n",
       "      <th>32</th>\n",
       "      <td>25.0</td>\n",
       "      <td>4</td>\n",
       "      <td>98.0</td>\n",
       "      <td>?</td>\n",
       "      <td>2046</td>\n",
       "      <td>19.0</td>\n",
       "      <td>71</td>\n",
       "      <td>1</td>\n",
       "      <td>ford pinto</td>\n",
       "    </tr>\n",
       "    <tr>\n",
       "      <th>126</th>\n",
       "      <td>21.0</td>\n",
       "      <td>6</td>\n",
       "      <td>200.0</td>\n",
       "      <td>?</td>\n",
       "      <td>2875</td>\n",
       "      <td>17.0</td>\n",
       "      <td>74</td>\n",
       "      <td>1</td>\n",
       "      <td>ford maverick</td>\n",
       "    </tr>\n",
       "    <tr>\n",
       "      <th>330</th>\n",
       "      <td>40.9</td>\n",
       "      <td>4</td>\n",
       "      <td>85.0</td>\n",
       "      <td>?</td>\n",
       "      <td>1835</td>\n",
       "      <td>17.3</td>\n",
       "      <td>80</td>\n",
       "      <td>2</td>\n",
       "      <td>renault lecar deluxe</td>\n",
       "    </tr>\n",
       "    <tr>\n",
       "      <th>336</th>\n",
       "      <td>23.6</td>\n",
       "      <td>4</td>\n",
       "      <td>140.0</td>\n",
       "      <td>?</td>\n",
       "      <td>2905</td>\n",
       "      <td>14.3</td>\n",
       "      <td>80</td>\n",
       "      <td>1</td>\n",
       "      <td>ford mustang cobra</td>\n",
       "    </tr>\n",
       "    <tr>\n",
       "      <th>354</th>\n",
       "      <td>34.5</td>\n",
       "      <td>4</td>\n",
       "      <td>100.0</td>\n",
       "      <td>?</td>\n",
       "      <td>2320</td>\n",
       "      <td>15.8</td>\n",
       "      <td>81</td>\n",
       "      <td>2</td>\n",
       "      <td>renault 18i</td>\n",
       "    </tr>\n",
       "    <tr>\n",
       "      <th>374</th>\n",
       "      <td>23.0</td>\n",
       "      <td>4</td>\n",
       "      <td>151.0</td>\n",
       "      <td>?</td>\n",
       "      <td>3035</td>\n",
       "      <td>20.5</td>\n",
       "      <td>82</td>\n",
       "      <td>1</td>\n",
       "      <td>amc concord dl</td>\n",
       "    </tr>\n",
       "  </tbody>\n",
       "</table>\n",
       "</div>"
      ],
      "text/plain": [
       "      mpg  cylinders  displacement horsepower  weight  acceleration  \\\n",
       "32   25.0          4          98.0          ?    2046          19.0   \n",
       "126  21.0          6         200.0          ?    2875          17.0   \n",
       "330  40.9          4          85.0          ?    1835          17.3   \n",
       "336  23.6          4         140.0          ?    2905          14.3   \n",
       "354  34.5          4         100.0          ?    2320          15.8   \n",
       "374  23.0          4         151.0          ?    3035          20.5   \n",
       "\n",
       "     model year  origin              car name  \n",
       "32           71       1            ford pinto  \n",
       "126          74       1         ford maverick  \n",
       "330          80       2  renault lecar deluxe  \n",
       "336          80       1    ford mustang cobra  \n",
       "354          81       2           renault 18i  \n",
       "374          82       1        amc concord dl  "
      ]
     },
     "execution_count": 12,
     "metadata": {},
     "output_type": "execute_result"
    }
   ],
   "source": [
    "# Fetching rows which are not digits\n",
    "mpg_data[hp_is_digit[\"horsepower\"]==False]"
   ]
  },
  {
   "cell_type": "code",
   "execution_count": 13,
   "id": "a75b8b5f-cf6c-4340-bf20-81d4546e2bc8",
   "metadata": {},
   "outputs": [],
   "source": [
    "# replacing strings with np.nan (missing values)\n",
    "mpg_data[\"horsepower\"]=mpg_data[\"horsepower\"].replace(\"?\",np.nan)"
   ]
  },
  {
   "cell_type": "code",
   "execution_count": 14,
   "id": "7d926f50-b23c-4fb5-ba75-f826b427af56",
   "metadata": {},
   "outputs": [
    {
     "data": {
      "text/plain": [
       "0      130\n",
       "1      165\n",
       "2      150\n",
       "3      150\n",
       "4      140\n",
       "      ... \n",
       "393     86\n",
       "394     52\n",
       "395     84\n",
       "396     79\n",
       "397     82\n",
       "Name: horsepower, Length: 398, dtype: object"
      ]
     },
     "execution_count": 14,
     "metadata": {},
     "output_type": "execute_result"
    }
   ],
   "source": [
    "mpg_data[\"horsepower\"]"
   ]
  },
  {
   "cell_type": "code",
   "execution_count": 15,
   "id": "473fe48d-3485-4bd5-a3ac-a7dee2842104",
   "metadata": {},
   "outputs": [
    {
     "data": {
      "text/plain": [
       "dtype('O')"
      ]
     },
     "execution_count": 15,
     "metadata": {},
     "output_type": "execute_result"
    }
   ],
   "source": [
    "mpg_data[\"horsepower\"].dtype"
   ]
  },
  {
   "cell_type": "code",
   "execution_count": 16,
   "id": "67429551-106f-4826-b7c3-9ebf22ef6d8d",
   "metadata": {},
   "outputs": [],
   "source": [
    "mpg_data[\"horsepower\"]=mpg_data[\"horsepower\"].astype(\"float64\")"
   ]
  },
  {
   "cell_type": "code",
   "execution_count": 17,
   "id": "41750ac5-f551-4ff4-b88d-73dc192275ee",
   "metadata": {},
   "outputs": [
    {
     "data": {
      "text/plain": [
       "dtype('float64')"
      ]
     },
     "execution_count": 17,
     "metadata": {},
     "output_type": "execute_result"
    }
   ],
   "source": [
    "mpg_data[\"horsepower\"].dtype"
   ]
  },
  {
   "cell_type": "code",
   "execution_count": 18,
   "id": "ffabb33a-2516-4273-922e-cacb516a1860",
   "metadata": {},
   "outputs": [
    {
     "data": {
      "text/plain": [
       "93.5"
      ]
     },
     "execution_count": 18,
     "metadata": {},
     "output_type": "execute_result"
    }
   ],
   "source": [
    "mpg_data[\"horsepower\"].median()"
   ]
  },
  {
   "cell_type": "code",
   "execution_count": 19,
   "id": "0f2b85b2-6ae7-4ad1-b490-a5e4bec0790c",
   "metadata": {},
   "outputs": [
    {
     "data": {
      "text/plain": [
       "np.float64(104.46938775510205)"
      ]
     },
     "execution_count": 19,
     "metadata": {},
     "output_type": "execute_result"
    }
   ],
   "source": [
    "mpg_data[\"horsepower\"].mean()"
   ]
  },
  {
   "cell_type": "code",
   "execution_count": 20,
   "id": "48526008-dcc6-4f66-8556-122e14f696ef",
   "metadata": {},
   "outputs": [],
   "source": [
    "mpg_data[\"horsepower\"]=mpg_data[\"horsepower\"].fillna(mpg_data[\"horsepower\"].median())"
   ]
  },
  {
   "cell_type": "code",
   "execution_count": 21,
   "id": "eb72ce32-4c29-4908-a7cb-7b2414d23fd7",
   "metadata": {},
   "outputs": [
    {
     "data": {
      "text/plain": [
       "305"
      ]
     },
     "execution_count": 21,
     "metadata": {},
     "output_type": "execute_result"
    }
   ],
   "source": [
    "mpg_data[\"car name\"].nunique()"
   ]
  },
  {
   "cell_type": "code",
   "execution_count": 22,
   "id": "c5a362d0-680c-4663-9af8-ca725ef606be",
   "metadata": {},
   "outputs": [],
   "source": [
    "mpg_data.drop([\"car name\"],axis=1,inplace=True)"
   ]
  },
  {
   "cell_type": "code",
   "execution_count": 23,
   "id": "5f989843-619d-4e5f-9ae6-b9ea1b2de462",
   "metadata": {},
   "outputs": [
    {
     "data": {
      "text/plain": [
       "Index(['mpg', 'cylinders', 'displacement', 'horsepower', 'weight',\n",
       "       'acceleration', 'model year', 'origin'],\n",
       "      dtype='object')"
      ]
     },
     "execution_count": 23,
     "metadata": {},
     "output_type": "execute_result"
    }
   ],
   "source": [
    "mpg_data.columns"
   ]
  },
  {
   "cell_type": "code",
   "execution_count": 24,
   "id": "850f0dfd-f7a1-48f7-b7c0-9542026c0306",
   "metadata": {},
   "outputs": [
    {
     "data": {
      "text/plain": [
       "origin\n",
       "1    249\n",
       "3     79\n",
       "2     70\n",
       "Name: count, dtype: int64"
      ]
     },
     "execution_count": 24,
     "metadata": {},
     "output_type": "execute_result"
    }
   ],
   "source": [
    "mpg_data[\"origin\"].value_counts()"
   ]
  },
  {
   "cell_type": "code",
   "execution_count": 25,
   "id": "d9484aa2-1b2b-47d9-9355-3f303386fb70",
   "metadata": {},
   "outputs": [],
   "source": [
    "mpg_data[\"origin\"]=mpg_data[\"origin\"].map({1:\"USA\",\n",
    "                                           2:\"Europe\",\n",
    "                                           3:\"Japan\"})"
   ]
  },
  {
   "cell_type": "code",
   "execution_count": 26,
   "id": "ba7e79d2-a463-4b46-90d5-c70ee6f6f964",
   "metadata": {},
   "outputs": [
    {
     "data": {
      "text/plain": [
       "mpg             float64\n",
       "cylinders         int64\n",
       "displacement    float64\n",
       "horsepower      float64\n",
       "weight            int64\n",
       "acceleration    float64\n",
       "model year        int64\n",
       "origin           object\n",
       "dtype: object"
      ]
     },
     "execution_count": 26,
     "metadata": {},
     "output_type": "execute_result"
    }
   ],
   "source": [
    "mpg_data.dtypes"
   ]
  },
  {
   "cell_type": "code",
   "execution_count": 27,
   "id": "a72ae808-2a38-4ab4-84f0-a4a7cd4fea5e",
   "metadata": {},
   "outputs": [
    {
     "data": {
      "text/plain": [
       "origin\n",
       "USA       249\n",
       "Japan      79\n",
       "Europe     70\n",
       "Name: count, dtype: int64"
      ]
     },
     "execution_count": 27,
     "metadata": {},
     "output_type": "execute_result"
    }
   ],
   "source": [
    "mpg_data.origin.value_counts()"
   ]
  },
  {
   "cell_type": "code",
   "execution_count": 28,
   "id": "78012f87-2f9b-4e28-8f66-c187865478be",
   "metadata": {},
   "outputs": [
    {
     "data": {
      "text/plain": [
       "np.int64(0)"
      ]
     },
     "execution_count": 28,
     "metadata": {},
     "output_type": "execute_result"
    }
   ],
   "source": [
    "mpg_data.duplicated().sum()"
   ]
  },
  {
   "cell_type": "code",
   "execution_count": 29,
   "id": "cf6a5a4e-e30c-4da4-9198-d1f54001bdb4",
   "metadata": {},
   "outputs": [],
   "source": [
    "mpg_data.to_csv(\"auto-mpg-cleaned.csv\")"
   ]
  },
  {
   "cell_type": "markdown",
   "id": "1b609203-d834-4f4d-9931-e3b6f8106a3f",
   "metadata": {},
   "source": [
    "# what is the distribution of mpg in the dataset?"
   ]
  },
  {
   "cell_type": "code",
   "execution_count": 30,
   "id": "b4f9c56a-2bda-464f-8075-a867d7d69ff5",
   "metadata": {},
   "outputs": [
    {
     "data": {
      "text/plain": [
       "19"
      ]
     },
     "execution_count": 30,
     "metadata": {},
     "output_type": "execute_result"
    }
   ],
   "source": [
    "int(np.sqrt(len(mpg_data)))"
   ]
  },
  {
   "cell_type": "code",
   "execution_count": 31,
   "id": "c18579d7-8745-43e2-b55a-1d97b54eb93a",
   "metadata": {},
   "outputs": [
    {
     "data": {
      "image/png": "[encoded data removed]",
      "text/plain": [
       "<Figure size 500x300 with 1 Axes>"
      ]
     },
     "metadata": {},
     "output_type": "display_data"
    }
   ],
   "source": [
    "plt.figure(figsize=(5,3))\n",
    "sns.histplot(data=mpg_data,x=\"mpg\",bins=20,kde=True)\n",
    "plt.title(\"Distribution of mpg\")\n",
    "plt.xlabel(\"MPG\")\n",
    "plt.savefig('Distribution of mpg.png')"
   ]
  },
  {
   "cell_type": "code",
   "execution_count": 32,
   "id": "9a4f11b9-8d3f-4eb5-b9ed-abe87293b76d",
   "metadata": {},
   "outputs": [
    {
     "data": {
      "text/plain": [
       "array([ 9.  , 10.88, 12.76, 14.64, 16.52, 18.4 , 20.28, 22.16, 24.04,\n",
       "       25.92, 27.8 , 29.68, 31.56, 33.44, 35.32, 37.2 , 39.08, 40.96,\n",
       "       42.84, 44.72, 46.6 ])"
      ]
     },
     "execution_count": 32,
     "metadata": {},
     "output_type": "execute_result"
    }
   ],
   "source": [
    "np.linspace(mpg_data[\"mpg\"].min(),mpg_data[\"mpg\"].max(),21)"
   ]
  },
  {
   "cell_type": "markdown",
   "id": "7b3ca4d7-45d9-41ed-9b07-ea4480ab4eb8",
   "metadata": {},
   "source": [
    "# Insight:Most cars have mpg in range of 12.76 to 29.68"
   ]
  },
  {
   "cell_type": "markdown",
   "id": "1601cb75-a663-4ab6-8454-35663cadd564",
   "metadata": {},
   "source": [
    "## 2.How many cars are from each origin(USA,Europe,Japan)"
   ]
  },
  {
   "cell_type": "code",
   "execution_count": null,
   "id": "d9dfa054-596e-481a-8441-7fecdce7a450",
   "metadata": {},
   "outputs": [],
   "source": [
    "plt.figure(figsize=(8,4))\n",
    "ax=sns.countplot(data=mpg_data,y=\"origin\",color=\"g\",width=0.4)\n",
    "for container in ax.containers:\n",
    "    ax.bar_label(container)\n",
    "plt.title(\"car origin count\")\n",
    "plt.show()"
   ]
  },
  {
   "cell_type": "markdown",
   "id": "125ab37d-e965-49c3-a82b-3154cb15bd87",
   "metadata": {},
   "source": [
    "# What is proportion of cars are from each origin(USA,Europe,Japan)\n"
   ]
  },
  {
   "cell_type": "code",
   "execution_count": null,
   "id": "ddfe2f7c-2b68-47ad-8a7e-60d7603beed2",
   "metadata": {},
   "outputs": [],
   "source": [
    "car_count=mpg_data[\"origin\"].value_counts()\n",
    "car_count"
   ]
  },
  {
   "cell_type": "code",
   "execution_count": null,
   "id": "7c68d194-c2d7-461b-8b98-1d65df677518",
   "metadata": {},
   "outputs": [],
   "source": [
    "plt.figure(figsize=(5,4))\n",
    "plt.pie(x=car_count,\n",
    "        labels=car_count.index,\n",
    "        autopct=\"%1.3f%%\",\n",
    "       explode=[0,0,0.3]);\n",
    "\n",
    "        "
   ]
  },
  {
   "cell_type": "code",
   "execution_count": null,
   "id": "e911f86d-bcb7-45ef-838b-b5ecffed7c5d",
   "metadata": {},
   "outputs": [],
   "source": [
    "# how can get in percentage\n",
    "car_count=mpg_data[\"origin\"].value_counts(normalize=True)*100\n",
    "car_count"
   ]
  },
  {
   "cell_type": "markdown",
   "id": "5f7ffc1b-819a-4902-8e7a-84d6624e0abe",
   "metadata": {},
   "source": [
    "## more than 50 percentage of car from USA(62%) country"
   ]
  },
  {
   "cell_type": "markdown",
   "id": "64d4a8c9-3f4f-4390-a846-b6148368946f",
   "metadata": {},
   "source": [
    "# 4. What percentage of cars belong to each cylinder category?"
   ]
  },
  {
   "cell_type": "code",
   "execution_count": null,
   "id": "6abdc690-521b-4142-878d-5b4ce1550a54",
   "metadata": {},
   "outputs": [],
   "source": [
    "cylinder_count=mpg_data[\"cylinders\"].value_counts(normalize=True)*100\n",
    "cylinder_count"
   ]
  },
  {
   "cell_type": "code",
   "execution_count": null,
   "id": "6362ecfc-75c6-4825-a229-811ac6953763",
   "metadata": {},
   "outputs": [],
   "source": [
    "plt.figure(figsize=(5,4))\n",
    "plt.pie(x=cylinder_count,\n",
    "        labels=cylinder_count.index,\n",
    "        autopct=\"%1.2f%%\",\n",
    "       explode=[0,0,0,0.4,0.8]);\n",
    "plt.title(\"Percentage of Cars by cylinders\")\n",
    "plt.show()"
   ]
  },
  {
   "cell_type": "markdown",
   "id": "ca0fdd4f-16ef-49d8-ace2-d31dfdf577ee",
   "metadata": {},
   "source": [
    "## Insight: 50% cars are 4-cylinder versions and 25% belong to 8-cylinder cars"
   ]
  },
  {
   "cell_type": "markdown",
   "id": "371f9d66-a631-4d45-9f27-9b24ec5aee3f",
   "metadata": {},
   "source": [
    "# what is the relationship between horsepower and weight of cars?"
   ]
  },
  {
   "cell_type": "code",
   "execution_count": null,
   "id": "79817c73-5863-4563-a698-b842c00ac08a",
   "metadata": {},
   "outputs": [],
   "source": [
    "mpg_data.columns"
   ]
  },
  {
   "cell_type": "code",
   "execution_count": null,
   "id": "023043d8-d112-4425-bd99-976f12d4f3a4",
   "metadata": {},
   "outputs": [],
   "source": [
    "mpg_data[[\"horsepower\",\"weight\"]].corr()"
   ]
  },
  {
   "cell_type": "markdown",
   "id": "56c53cc9-0dd6-454b-886f-238eb9c64f2f",
   "metadata": {},
   "source": [
    "## Insight: Horse power and Weight are highly correlated indicating more the weight high chance of horspower being high"
   ]
  },
  {
   "cell_type": "code",
   "execution_count": null,
   "id": "d740edf4-00eb-45dc-9bb4-d3a137e82c2b",
   "metadata": {},
   "outputs": [],
   "source": [
    "sns.regplot(data=mpg_data,x=\"horsepower\",y=\"weight\",line_kws={\"color\":\"green\"},\n",
    "           scatter_kws={\"marker\":\"d\",\"color\":\"magenta\"})\n",
    "plt.title(\"Horsepower vs Weight\")"
   ]
  },
  {
   "cell_type": "markdown",
   "id": "24eadf3c-f5ea-4d2e-adf2-83868a26d3cd",
   "metadata": {},
   "source": [
    "# How does MPG vary across different number of cyclinders?"
   ]
  },
  {
   "cell_type": "code",
   "execution_count": null,
   "id": "209239b4-c18f-47fc-9f9c-c5f4e2ac7071",
   "metadata": {},
   "outputs": [],
   "source": [
    "sns.barplot(data=mpg_data,x=\"cylinders\",y=\"mpg\",estimator=\"median\")"
   ]
  },
  {
   "cell_type": "markdown",
   "id": "b0625984-3d54-43c2-a127-d0ffa147a4ad",
   "metadata": {},
   "source": [
    "## insight: 4- cylinder cars have more fuel economy then 6 and 8 cylinder cars"
   ]
  },
  {
   "cell_type": "code",
   "execution_count": null,
   "id": "81a2e36f-4c9a-4cf7-a390-2d951c77a6cb",
   "metadata": {},
   "outputs": [],
   "source": [
    "sns.boxplot(data=mpg_data,x=\"cylinders\",y=\"mpg\")\n",
    "plt.title(\"mpg distribution across cylinders\")\n",
    "plt.xlabel(\"Cylinders\")\n",
    "plt.ylabel(\"mpg\")\n",
    "plt.show()"
   ]
  },
  {
   "cell_type": "markdown",
   "id": "eb2697c7-8631-46c6-b353-7e5c8499b445",
   "metadata": {},
   "source": [
    "# what are the relationship amoung horsepower and acceleration?"
   ]
  },
  {
   "cell_type": "code",
   "execution_count": null,
   "id": "168c4dab-1932-4cc0-b197-76240a8d3a36",
   "metadata": {},
   "outputs": [],
   "source": [
    "mpg_data[[\"horsepower\",\"acceleration\"]].corr()"
   ]
  },
  {
   "cell_type": "code",
   "execution_count": null,
   "id": "e4550ad6-b030-4f13-92e7-222b09236216",
   "metadata": {},
   "outputs": [],
   "source": [
    "sns.regplot(data=mpg_data,x=\"horsepower\",y=\"acceleration\",line_kws={\"color\":\"red\"})\n",
    "plt.axvline(198,color=\"magenta\")\n",
    "plt.axhline(10,color=\"magenta\")\n",
    "plt.axvline(52,color=\"g\")\n",
    "plt.axhline(24.5,color=\"g\")"
   ]
  },
  {
   "cell_type": "markdown",
   "id": "806ec125-3487-48d6-a90a-0c52386763a0",
   "metadata": {},
   "source": [
    "## insight:High horse power cars have less time to accelerate(0-60mph) compared to low horse power cars\n"
   ]
  },
  {
   "cell_type": "markdown",
   "id": "341c5e2a-8753-475e-bc03-858488c20334",
   "metadata": {},
   "source": [
    "# How does horsepower vary by origin?"
   ]
  },
  {
   "cell_type": "code",
   "execution_count": null,
   "id": "20d10679-48d3-4067-aa08-7c00d8171bf6",
   "metadata": {},
   "outputs": [],
   "source": [
    "mpg_data.groupby(by=\"origin\")[\"horsepower\"].median()"
   ]
  },
  {
   "cell_type": "code",
   "execution_count": null,
   "id": "b444b863-99fa-4cf8-a4b5-f4789d06707b",
   "metadata": {},
   "outputs": [],
   "source": [
    "sns.barplot(data=mpg_data,x=\"origin\",y=\"horsepower\",width=0.4,\n",
    "            estimator=\"median\",color=\"red\")"
   ]
  },
  {
   "cell_type": "markdown",
   "id": "c178284c-3a9b-40be-b0de-5e144c23aaf7",
   "metadata": {},
   "source": [
    "## Insight:USA tend to manufacture high horse power cars where as japan and eroupe manfacture low horse power cars"
   ]
  },
  {
   "cell_type": "markdown",
   "id": "525b26bf-c71b-4c23-82a7-5609da19e7af",
   "metadata": {},
   "source": [
    "# what is the trend of mpg across different years?"
   ]
  },
  {
   "cell_type": "code",
   "execution_count": null,
   "id": "1ad9dc62-3bb7-4172-a378-e13610a16421",
   "metadata": {},
   "outputs": [],
   "source": [
    "mpg_data.groupby(by=\"model year\")[\"mpg\"].mean()"
   ]
  },
  {
   "cell_type": "code",
   "execution_count": null,
   "id": "371cc882-4fbc-42a1-ab48-184130679ac5",
   "metadata": {},
   "outputs": [],
   "source": [
    "mpg_data.groupby(by=\"model year\")[\"mpg\"].mean().plot(kind=\"line\",marker=\"d\")\n",
    "plt.title(\"Average MPG  over model years\")\n",
    "plt.xlabel(\"Model Year\")\n",
    "plt.ylabel(\"Average MPG\")\n",
    "plt.show()"
   ]
  },
  {
   "cell_type": "code",
   "execution_count": null,
   "id": "31f3ebb9-7ccd-485e-beb4-a350a0d5bb19",
   "metadata": {},
   "outputs": [],
   "source": [
    "# by using seaborn\n",
    "sns.lineplot(data=mpg_data, x='model year', y='mpg')"
   ]
  },
  {
   "cell_type": "markdown",
   "id": "1ad83051-9ceb-4876-8030-911503b7b182",
   "metadata": {},
   "source": [
    "## Insight:Average MPG(mileage/fuel economy) is increasing over years"
   ]
  },
  {
   "cell_type": "markdown",
   "id": "372f1e4e-3365-49a6-b24f-66b49a2b00d9",
   "metadata": {},
   "source": [
    "# what is the distribution of displacement in the dataset?"
   ]
  },
  {
   "cell_type": "code",
   "execution_count": null,
   "id": "07eac0d0-ec30-4148-b1a0-a3ca8db96f6e",
   "metadata": {},
   "outputs": [],
   "source": [
    "plt.figure(figsize=(6,4))\n",
    "sns.histplot(data=mpg_data,x=\"displacement\",bins=20,kde=True)\n",
    "plt.title(\"Displacement\")\n",
    "plt.show()"
   ]
  },
  {
   "cell_type": "markdown",
   "id": "901b7410-f2b7-4284-be2f-047b908fcf89",
   "metadata": {},
   "source": [
    "## Insight: most cars have engine displacement <150 cubic inches"
   ]
  },
  {
   "cell_type": "markdown",
   "id": "79ad6f29-4b3c-41d7-8660-391ed46be6b1",
   "metadata": {},
   "source": [
    "# How does the weight affect the mpg"
   ]
  },
  {
   "cell_type": "code",
   "execution_count": null,
   "id": "da5ec93a-279b-4671-8ce8-715dc4750caa",
   "metadata": {},
   "outputs": [],
   "source": [
    "mpg_data[['weight','mpg']].corr()"
   ]
  },
  {
   "cell_type": "code",
   "execution_count": null,
   "id": "53a20cbb-c924-4e29-83db-b3700c28f797",
   "metadata": {},
   "outputs": [],
   "source": [
    "sns.regplot(data=mpg_data,x=\"weight\",y=\"mpg\",marker=\"d\",scatter_kws={\"color\":\"g\",\"s\":10},scatter=True)"
   ]
  },
  {
   "cell_type": "markdown",
   "id": "1a96498d-7a8c-4d71-a2bf-f380ec695b75",
   "metadata": {},
   "source": [
    "## Insight: Heavier cars(high weight) tend to have less milleage(mpg)"
   ]
  },
  {
   "cell_type": "markdown",
   "id": "aa963aaa-e6b3-4e3d-8ae7-ca00f3bec073",
   "metadata": {},
   "source": [
    "# what is the relationship between mpg and acceleration\n"
   ]
  },
  {
   "cell_type": "code",
   "execution_count": null,
   "id": "4d3c773c-4189-4c06-972f-f0f5c84daf72",
   "metadata": {},
   "outputs": [],
   "source": [
    "mpg_data[[\"mpg\",\"acceleration\"]].corr()"
   ]
  },
  {
   "cell_type": "code",
   "execution_count": null,
   "id": "0674ef51-7930-44f0-8081-9bc4c28529c8",
   "metadata": {},
   "outputs": [],
   "source": [
    "sns.regplot(data=mpg_data,x=\"mpg\",y=\"acceleration\",marker=\"^\",scatter=True\n",
    "            ,scatter_kws={\"color\":\"m\"},line_kws=({\"color\":\"g\"}))\n",
    "plt.title(\"Mpg vs Acceleration\")"
   ]
  },
  {
   "cell_type": "markdown",
   "id": "ec12c855-22dc-4437-a12d-1db99738353c",
   "metadata": {},
   "source": [
    "# Insight: Low acceleration (time for 0-60mph speed up) cars trend to have high mileage (mpg) but relationship is not strong"
   ]
  },
  {
   "cell_type": "code",
   "execution_count": null,
   "id": "8a4f666f-dd64-4e8d-b270-71afb673a3f7",
   "metadata": {},
   "outputs": [],
   "source": [
    "mpg_data[\"cylinders\"]=mpg_data[\"cylinders\"].astype(\"object\")"
   ]
  },
  {
   "cell_type": "code",
   "execution_count": null,
   "id": "47ac4b77-5f5b-43d8-83bb-25c9a379b3e5",
   "metadata": {},
   "outputs": [],
   "source": [
    "numerical_cols=mpg_data.select_dtypes(include=np.number).columns"
   ]
  },
  {
   "cell_type": "code",
   "execution_count": null,
   "id": "6abbc3bb-ab65-4278-8ec1-2883848069d4",
   "metadata": {},
   "outputs": [],
   "source": [
    "mpg_data[numerical_cols]"
   ]
  },
  {
   "cell_type": "code",
   "execution_count": null,
   "id": "d25dd906-5919-4c1f-95c5-9b87a5942312",
   "metadata": {},
   "outputs": [],
   "source": [
    "mpg_data[numerical_cols].corr()"
   ]
  },
  {
   "cell_type": "code",
   "execution_count": null,
   "id": "5a3ecf1e-37f0-4687-8e0f-4dbb67b49443",
   "metadata": {},
   "outputs": [],
   "source": [
    "sns.heatmap(data=mpg_data[numerical_cols].iloc[:-1,:-1].corr(),annot=True)"
   ]
  },
  {
   "cell_type": "markdown",
   "id": "d1dbb936-8dd2-4bae-8d7d-8f7aafaadf1a",
   "metadata": {},
   "source": [
    "## Insight: cyclinders,displacement,horse power,weight are infleuing mileage(higher the weight less the milleage)"
   ]
  },
  {
   "cell_type": "markdown",
   "id": "c79a6c3b-2a74-49ee-92e0-2586878952be",
   "metadata": {},
   "source": [
    "# What relationship can be inferred between MPG,horsepower, and weight?"
   ]
  },
  {
   "cell_type": "code",
   "execution_count": null,
   "id": "08cad1fd-2275-456d-8911-b99b01414134",
   "metadata": {},
   "outputs": [],
   "source": [
    "mpg_data[[\"mpg\",\"horsepower\",\"weight\"]].corr()"
   ]
  },
  {
   "cell_type": "code",
   "execution_count": null,
   "id": "973d7deb-5699-498b-b474-f73cbb675c65",
   "metadata": {},
   "outputs": [],
   "source": [
    "sns.heatmap(data=mpg_data[[\"mpg\",\"horsepower\",\"weight\"]].corr(),annot=True)"
   ]
  },
  {
   "cell_type": "code",
   "execution_count": null,
   "id": "54bc1b5a-74c2-4dc7-96e4-030a345d439e",
   "metadata": {},
   "outputs": [],
   "source": [
    "sns.pairplot(mpg_data[[\"mpg\",\"horsepower\",\"weight\"]],\n",
    "             diag_kind=\"hist\",markers=[\"d\"],\n",
    "             kind=\"reg\",\n",
    "             plot_kws={\"scatter_kws\":{\"color\":\"green\"},\n",
    "                       \"line_kws\":{\"color\":\"magenta\"}\n",
    "                      },height=2,aspect=1.8)"
   ]
  },
  {
   "cell_type": "markdown",
   "id": "a4019170-daa0-40e1-83b1-2fd0f872c274",
   "metadata": {},
   "source": [
    "## Insight: there is strong negative correlation for  horsepower and weight with mpg.and there is strong postive correlation between horsepower and weight(if car horsepower is more it tend to weight)"
   ]
  },
  {
   "cell_type": "markdown",
   "id": "fefd1a5d-b483-4a40-8335-6651c675e980",
   "metadata": {},
   "source": [
    "# what is the disribution of mpg for different car origins"
   ]
  },
  {
   "cell_type": "code",
   "execution_count": null,
   "id": "5f8852d5-528f-4950-8885-1322af2b484f",
   "metadata": {},
   "outputs": [],
   "source": [
    "sns.barplot(data=mpg_data,x=\"origin\",y=\"mpg\")"
   ]
  },
  {
   "cell_type": "markdown",
   "id": "6806fa78-bfd6-4b20-b23c-12432f5669ba",
   "metadata": {},
   "source": [
    "## Insight: japan origin car has high mpg when compared to europe and usa.the usa origin made less mpg cars."
   ]
  },
  {
   "cell_type": "markdown",
   "id": "ec5d63c4-9aee-4e9b-9dc3-4e9b6d3f33ec",
   "metadata": {},
   "source": [
    "# what is the disribution of acceleration for different car origins."
   ]
  },
  {
   "cell_type": "code",
   "execution_count": null,
   "id": "81419576-8ced-4a39-b4d6-7299332ae7e8",
   "metadata": {},
   "outputs": [],
   "source": [
    "sns.barplot(data=mpg_data,x=\"origin\",y=\"acceleration\")"
   ]
  },
  {
   "cell_type": "markdown",
   "id": "d9121561-8a97-49c2-832a-d50a0e25044e",
   "metadata": {},
   "source": [
    "## Insight: Eroupe origin cars has more acceleration cars when compare to USA and Japan."
   ]
  },
  {
   "cell_type": "markdown",
   "id": "3ae55094-4260-4a7b-8067-9c8fcd095f4b",
   "metadata": {},
   "source": [
    "# how does the weight of cars vary by their origin?"
   ]
  },
  {
   "cell_type": "code",
   "execution_count": null,
   "id": "c888667b-75a4-4461-900d-0e0b46f4b210",
   "metadata": {},
   "outputs": [],
   "source": [
    "sns.barplot(data=mpg_data,x=\"origin\",y=\"weight\")"
   ]
  },
  {
   "cell_type": "code",
   "execution_count": null,
   "id": "4971ddc0-29a1-4588-8e13-a713465e79da",
   "metadata": {},
   "outputs": [],
   "source": [
    "sns.boxplot(data=mpg_data,x=\"origin\",y=\"weight\")\n",
    "plt.title(\"Weight Distribution by car origin\")\n",
    "plt.xlabel(\"Origin (1= USA,2= Europe,3= Japan)\")\n",
    "plt.ylabel(\"weight\")\n",
    "plt.show()\n",
    "           "
   ]
  },
  {
   "cell_type": "markdown",
   "id": "e156bcd5-287b-47cf-aac5-b4bbe2e9eb3c",
   "metadata": {},
   "source": [
    "## Insight:USA origin made heavier cars than europe and japan."
   ]
  },
  {
   "cell_type": "markdown",
   "id": "1736c6b4-fb75-430c-b6d9-701bda47c365",
   "metadata": {},
   "source": [
    "#  what is the relationship between mpg and horsepower?"
   ]
  },
  {
   "cell_type": "code",
   "execution_count": null,
   "id": "9950365e-7eee-40f6-91ea-abd97c38377d",
   "metadata": {},
   "outputs": [],
   "source": [
    "mpg_data[[\"mpg\",\"horsepower\"]].corr()"
   ]
  },
  {
   "cell_type": "code",
   "execution_count": null,
   "id": "148840db-8e80-4e89-8a69-02a37c50b20a",
   "metadata": {},
   "outputs": [],
   "source": [
    "sns.regplot(data=mpg_data,x=\"horsepower\",y=\"mpg\",scatter_kws={'color':'blue'},\n",
    "            line_kws={'color':'r'})"
   ]
  },
  {
   "cell_type": "code",
   "execution_count": null,
   "id": "d2176334-36a5-4fca-926b-3d1a33e35ae5",
   "metadata": {},
   "outputs": [],
   "source": []
  }
 ],
 "metadata": {
  "kernelspec": {
   "display_name": "Python 3 (ipykernel)",
   "language": "python",
   "name": "python3"
  },
  "language_info": {
   "codemirror_mode": {
    "name": "ipython",
    "version": 3
   },
   "file_extension": ".py",
   "mimetype": "text/x-python",
   "name": "python",
   "nbconvert_exporter": "python",
   "pygments_lexer": "ipython3",
   "version": "3.13.5"
  }
 },
 "nbformat": 4,
 "nbformat_minor": 5
}
